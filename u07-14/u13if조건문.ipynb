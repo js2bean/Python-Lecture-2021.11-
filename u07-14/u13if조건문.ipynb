{
 "cells": [
  {
   "cell_type": "markdown",
   "metadata": {},
   "source": [
    "# Unit 13. If 조건문"
   ]
  },
  {
   "cell_type": "code",
   "execution_count": 1,
   "metadata": {},
   "outputs": [
    {
     "name": "stdout",
     "output_type": "stream",
     "text": [
      "10 입니다.\n"
     ]
    }
   ],
   "source": [
    "x = 10\n",
    "if x == 10:\n",
    "    print('10 입니다.')"
   ]
  },
  {
   "cell_type": "code",
   "execution_count": 2,
   "metadata": {},
   "outputs": [
    {
     "name": "stdout",
     "output_type": "stream",
     "text": [
      "10입니다.\n",
      "이 곳은 조건이 참일 경우에 실행되는 문장입니다.\n",
      "이 곳은 조건과 무관하게 실행되는 문장입니다\n"
     ]
    }
   ],
   "source": [
    "if x == 10:\n",
    "    print('10입니다.')\n",
    "    print('이 곳은 조건이 참일 경우에 실행되는 문장입니다.')\n",
    "print('이 곳은 조건과 무관하게 실행되는 문장입니다')"
   ]
  },
  {
   "cell_type": "code",
   "execution_count": 3,
   "metadata": {},
   "outputs": [
    {
     "name": "stdout",
     "output_type": "stream",
     "text": [
      "10 초과\n",
      "3의 배수\n",
      "5의 배수\n"
     ]
    }
   ],
   "source": [
    "x= 15\n",
    "if x > 10:\n",
    "    print('10 초과')\n",
    "    if x % 3 == 0:\n",
    "        print('3의 배수')\n",
    "        if x % 5 == 0:\n",
    "            print('5의 배수')"
   ]
  },
  {
   "cell_type": "code",
   "execution_count": 4,
   "metadata": {},
   "outputs": [
    {
     "name": "stdout",
     "output_type": "stream",
     "text": [
      "10 초과\n",
      "3의 배수\n"
     ]
    }
   ],
   "source": [
    "x = int(input('정수 입력'))\n",
    "if x > 10:\n",
    "    print('10 초과')\n",
    "    if x % 3 == 0:\n",
    "        print('3의 배수')\n",
    "        if x % 5 == 0:\n",
    "            print('5의 배수')"
   ]
  },
  {
   "cell_type": "code",
   "execution_count": 5,
   "metadata": {},
   "outputs": [
    {
     "name": "stdout",
     "output_type": "stream",
     "text": [
      "10 초과\n",
      "x 값은 17입니다.\n"
     ]
    }
   ],
   "source": [
    "import random\n",
    "random.seed(2021)\n",
    "x = random.randint(5, 20)\n",
    "if x > 10:\n",
    "    print('10 초과')\n",
    "    if x % 3 == 0:\n",
    "        print('3의 배수')\n",
    "    if x % 5 == 0:\n",
    "        print('5의 배수')\n",
    "print(f'x 값은 {x}입니다.')"
   ]
  },
  {
   "cell_type": "code",
   "execution_count": null,
   "metadata": {},
   "outputs": [],
   "source": [
    "if x > 15:\n",
    "    pass"
   ]
  }
 ],
 "metadata": {
  "interpreter": {
   "hash": "9f9dcbc3dbda920e9125360fe0104a4d858dfb1763bce9adddd9113b29fead37"
  },
  "kernelspec": {
   "display_name": "Python 3.8.8 64-bit ('base': conda)",
   "language": "python",
   "name": "python3"
  },
  "language_info": {
   "codemirror_mode": {
    "name": "ipython",
    "version": 3
   },
   "file_extension": ".py",
   "mimetype": "text/x-python",
   "name": "python",
   "nbconvert_exporter": "python",
   "pygments_lexer": "ipython3",
   "version": "3.8.8"
  },
  "orig_nbformat": 4
 },
 "nbformat": 4,
 "nbformat_minor": 2
}
