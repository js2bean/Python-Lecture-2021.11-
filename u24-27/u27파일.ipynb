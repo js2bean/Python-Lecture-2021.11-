{
 "cells": [
  {
   "cell_type": "markdown",
   "metadata": {},
   "source": [
    "# Unit 27. 파일"
   ]
  },
  {
   "cell_type": "code",
   "execution_count": null,
   "metadata": {},
   "outputs": [],
   "source": [
    "# 백슬래쉬(\\)말고 / 쓸것"
   ]
  },
  {
   "cell_type": "code",
   "execution_count": 15,
   "metadata": {},
   "outputs": [],
   "source": [
    "#파일에 문자열 쓰기\n",
    "\n",
    "file = open('hello.txt', 'w')\n",
    "file.write('Hello, world!')\n",
    "file.close()"
   ]
  },
  {
   "cell_type": "code",
   "execution_count": 16,
   "metadata": {},
   "outputs": [
    {
     "data": {
      "text/plain": [
       "'Hello, world!'"
      ]
     },
     "execution_count": 16,
     "metadata": {},
     "output_type": "execute_result"
    }
   ],
   "source": [
    "# 파일로부터 텍스트 읽기\n",
    "\n",
    "file = open('hello.txt')\n",
    "s = file.read()\n",
    "file.close()\n",
    "s"
   ]
  },
  {
   "cell_type": "code",
   "execution_count": 17,
   "metadata": {},
   "outputs": [
    {
     "data": {
      "text/plain": [
       "'Hello'"
      ]
     },
     "execution_count": 17,
     "metadata": {},
     "output_type": "execute_result"
    }
   ],
   "source": [
    "# 자동 clupse\n",
    "\n",
    "with open('hello.txt') as file:\n",
    "    s = file.read(5)\n",
    "s"
   ]
  },
  {
   "cell_type": "code",
   "execution_count": 23,
   "metadata": {},
   "outputs": [],
   "source": [
    "with open('hello.txt', 'w') as file:\n",
    "    for i in range(3):\n",
    "        file.write(f'Hello, world! {i}\\n')"
   ]
  },
  {
   "cell_type": "code",
   "execution_count": 20,
   "metadata": {},
   "outputs": [
    {
     "data": {
      "text/plain": [
       "['Hello, world! 0\\n', 'Hello, world! 1\\n', 'Hello, world! 2\\n']"
      ]
     },
     "execution_count": 20,
     "metadata": {},
     "output_type": "execute_result"
    }
   ],
   "source": [
    "with open('hello.txt') as file:\n",
    "    lines = file.readlines()\n",
    "lines"
   ]
  },
  {
   "cell_type": "code",
   "execution_count": 21,
   "metadata": {},
   "outputs": [
    {
     "name": "stdout",
     "output_type": "stream",
     "text": [
      "Hello, world! 0\n",
      "Hello, world! 1\n",
      "Hello, world! 2\n"
     ]
    }
   ],
   "source": [
    "for line in lines:\n",
    "    print(line, end='')"
   ]
  },
  {
   "cell_type": "code",
   "execution_count": 24,
   "metadata": {},
   "outputs": [],
   "source": [
    "# append mode\n",
    "\n",
    "with open('hello.txt', 'a', encoding='utf-8') as file:\n",
    "    file.write('어펜드 모드에서 파일에 씁니다.')\n"
   ]
  },
  {
   "cell_type": "markdown",
   "metadata": {},
   "source": [
    "- 파이썬 객체를 바이너리 파일로 쓰기"
   ]
  },
  {
   "cell_type": "code",
   "execution_count": 27,
   "metadata": {},
   "outputs": [],
   "source": [
    "import pickle\n",
    " \n",
    "name = 'james'\n",
    "age = 17\n",
    "address = '서울시 서초구 반포동'\n",
    "scores = {'korean': 90, 'english': 95, 'mathematics': 85, 'science': 82}\n",
    " \n",
    "with open('james.p', 'wb') as file:    # james.p 파일을 바이너리 쓰기 모드(wb)로 열기\n",
    "    pickle.dump(name, file)\n",
    "    pickle.dump(age, file)\n",
    "    pickle.dump(address, file)\n",
    "    pickle.dump(scores, file)"
   ]
  },
  {
   "cell_type": "code",
   "execution_count": 28,
   "metadata": {},
   "outputs": [
    {
     "name": "stdout",
     "output_type": "stream",
     "text": [
      "james\n",
      "17\n",
      "서울시 서초구 반포동\n",
      "{'korean': 90, 'english': 95, 'mathematics': 85, 'science': 82}\n"
     ]
    }
   ],
   "source": [
    "import pickle\n",
    " \n",
    "with open('james.p', 'rb') as file:    # james.p 파일을 바이너리 읽기 모드(rb)로 열기\n",
    "    name = pickle.load(file)\n",
    "    age = pickle.load(file)\n",
    "    address = pickle.load(file)\n",
    "    scores = pickle.load(file)\n",
    "    print(name)\n",
    "    print(age)\n",
    "    print(address)\n",
    "    print(scores)"
   ]
  },
  {
   "cell_type": "markdown",
   "metadata": {},
   "source": [
    "## 27.6 심사문제: 특정 문자가 들어있는 단어 찾기"
   ]
  },
  {
   "cell_type": "code",
   "execution_count": 30,
   "metadata": {},
   "outputs": [
    {
     "ename": "SyntaxError",
     "evalue": "invalid syntax (<ipython-input-30-c8aa6b87ef5a>, line 4)",
     "output_type": "error",
     "traceback": [
      "\u001b[1;36m  File \u001b[1;32m\"<ipython-input-30-c8aa6b87ef5a>\"\u001b[1;36m, line \u001b[1;32m4\u001b[0m\n\u001b[1;33m    word = word.strip(,.)\u001b[0m\n\u001b[1;37m                      ^\u001b[0m\n\u001b[1;31mSyntaxError\u001b[0m\u001b[1;31m:\u001b[0m invalid syntax\n"
     ]
    }
   ],
   "source": [
    "with open('words.txt') as file:\n",
    "    words = file.read()\n",
    "for word in words.split():\n",
    "    word = word.strip(,.)\n",
    "    if 'c' in word:\n",
    "        print(word)"
   ]
  },
  {
   "cell_type": "code",
   "execution_count": null,
   "metadata": {},
   "outputs": [],
   "source": []
  }
 ],
 "metadata": {
  "interpreter": {
   "hash": "9f9dcbc3dbda920e9125360fe0104a4d858dfb1763bce9adddd9113b29fead37"
  },
  "kernelspec": {
   "display_name": "Python 3.8.8 64-bit ('base': conda)",
   "language": "python",
   "name": "python3"
  },
  "language_info": {
   "codemirror_mode": {
    "name": "ipython",
    "version": 3
   },
   "file_extension": ".py",
   "mimetype": "text/x-python",
   "name": "python",
   "nbconvert_exporter": "python",
   "pygments_lexer": "ipython3",
   "version": "3.8.8"
  },
  "orig_nbformat": 4
 },
 "nbformat": 4,
 "nbformat_minor": 2
}
