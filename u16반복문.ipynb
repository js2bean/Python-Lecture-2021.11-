{
 "cells": [
  {
   "cell_type": "markdown",
   "metadata": {},
   "source": [
    "# Unit 16. 반복문"
   ]
  },
  {
   "cell_type": "code",
   "execution_count": 2,
   "metadata": {},
   "outputs": [
    {
     "name": "stdout",
     "output_type": "stream",
     "text": [
      "Hello, World. 0\n",
      "Hello, World. 1\n",
      "Hello, World. 2\n",
      "Hello, World. 3\n",
      "Hello, World. 4\n"
     ]
    }
   ],
   "source": [
    "for i in range(5):\n",
    "    print('Hello, World.', i)"
   ]
  },
  {
   "cell_type": "code",
   "execution_count": 3,
   "metadata": {},
   "outputs": [
    {
     "name": "stdout",
     "output_type": "stream",
     "text": [
      "Hello, world. 3\n",
      "Hello, world. 4\n",
      "Hello, world. 5\n",
      "Hello, world. 6\n",
      "Hello, world. 7\n",
      "Hello, world. 8\n"
     ]
    }
   ],
   "source": [
    "for i in range(3,9):\n",
    "    print('Hello, world.', i)"
   ]
  },
  {
   "cell_type": "code",
   "execution_count": 5,
   "metadata": {},
   "outputs": [
    {
     "name": "stdout",
     "output_type": "stream",
     "text": [
      "Hello world. 1\n",
      "Hello world. 3\n",
      "Hello world. 5\n",
      "Hello world. 7\n",
      "Hello world. 9\n"
     ]
    }
   ],
   "source": [
    "for i in range(1,10,2):\n",
    "    print('Hello world.', i)"
   ]
  },
  {
   "cell_type": "code",
   "execution_count": 6,
   "metadata": {},
   "outputs": [
    {
     "name": "stdout",
     "output_type": "stream",
     "text": [
      "Hello world 10\n",
      "Hello world 8\n",
      "Hello world 6\n",
      "Hello world 4\n",
      "Hello world 2\n"
     ]
    }
   ],
   "source": [
    "for i in range(10,1,-2):\n",
    "    print('Hello world', i)"
   ]
  },
  {
   "cell_type": "code",
   "execution_count": 8,
   "metadata": {},
   "outputs": [
    {
     "name": "stdout",
     "output_type": "stream",
     "text": [
      "0\n",
      "2\n",
      "4\n",
      "6\n",
      "8\n"
     ]
    }
   ],
   "source": [
    "for i in range(5):\n",
    "    i *= 2\n",
    "    print(i)"
   ]
  },
  {
   "cell_type": "code",
   "execution_count": 9,
   "metadata": {},
   "outputs": [
    {
     "name": "stdout",
     "output_type": "stream",
     "text": [
      "0\n",
      "2\n",
      "4\n",
      "6\n",
      "8\n"
     ]
    }
   ],
   "source": [
    "# for loop의 index의 값은 변경시키지 말 것\n",
    "for i in range(5):\n",
    "    k = i * 2\n",
    "    print(k) "
   ]
  },
  {
   "cell_type": "markdown",
   "metadata": {},
   "source": [
    "### 16-3 시퀀스 객체"
   ]
  },
  {
   "cell_type": "code",
   "execution_count": 10,
   "metadata": {},
   "outputs": [
    {
     "name": "stdout",
     "output_type": "stream",
     "text": [
      "10\n",
      "20\n",
      "30\n",
      "40\n",
      "50\n"
     ]
    }
   ],
   "source": [
    "a = [10, 20, 30, 40, 50]\n",
    "for i in a:\n",
    "    print(i)"
   ]
  },
  {
   "cell_type": "code",
   "execution_count": 12,
   "metadata": {},
   "outputs": [
    {
     "name": "stdout",
     "output_type": "stream",
     "text": [
      "사과\n",
      "배\n",
      "귤\n"
     ]
    }
   ],
   "source": [
    "fruits = ('사과', '배', '귤')\n",
    "for fruit in fruits:\n",
    "    print(fruit)"
   ]
  },
  {
   "cell_type": "code",
   "execution_count": 13,
   "metadata": {},
   "outputs": [
    {
     "name": "stdout",
     "output_type": "stream",
     "text": [
      "P y t h o n "
     ]
    }
   ],
   "source": [
    "for letter in 'Python':\n",
    "    print(letter, end=' ')"
   ]
  },
  {
   "cell_type": "markdown",
   "metadata": {},
   "source": [
    "- 반복문 응용"
   ]
  },
  {
   "cell_type": "code",
   "execution_count": 14,
   "metadata": {},
   "outputs": [
    {
     "name": "stdout",
     "output_type": "stream",
     "text": [
      "5050\n"
     ]
    }
   ],
   "source": [
    "# 1에서 100까지 합\n",
    "sum = 0\n",
    "for i in range(1,101):\n",
    "    sum += i\n",
    "print(sum)"
   ]
  },
  {
   "cell_type": "code",
   "execution_count": 15,
   "metadata": {},
   "outputs": [
    {
     "name": "stdout",
     "output_type": "stream",
     "text": [
      "3628800\n"
     ]
    }
   ],
   "source": [
    "# 1에서 10까지 곱\n",
    "product = 1\n",
    "for i in range(1,11):\n",
    "    product *= i\n",
    "print(product)"
   ]
  },
  {
   "cell_type": "code",
   "execution_count": 16,
   "metadata": {},
   "outputs": [
    {
     "data": {
      "text/plain": [
       "2.0"
      ]
     },
     "execution_count": 16,
     "metadata": {},
     "output_type": "execute_result"
    }
   ],
   "source": [
    "import math\n",
    "math.sqrt(4)"
   ]
  },
  {
   "cell_type": "code",
   "execution_count": 20,
   "metadata": {},
   "outputs": [
    {
     "data": {
      "text/plain": [
       "[1.0, 1.4142, 1.7321, 2.0, 2.2361, 2.4495, 2.6458, 2.8284, 3.0, 3.1623]"
      ]
     },
     "execution_count": 20,
     "metadata": {},
     "output_type": "execute_result"
    }
   ],
   "source": [
    "# 1에서 10까지 루트값으로 리스트 만들기\n",
    "sqrt_num = []\n",
    "for i in range(1,11):\n",
    "    sqrt_num.append(round(math.sqrt(i),4))\n",
    "sqrt_num"
   ]
  },
  {
   "cell_type": "code",
   "execution_count": 21,
   "metadata": {},
   "outputs": [
    {
     "name": "stdout",
     "output_type": "stream",
     "text": [
      "25 325\n"
     ]
    }
   ],
   "source": [
    "# for-loop, 1에서 얼마까지 더하면 누적합이 300을 초과하는지\n",
    "sum = 0\n",
    "for i in range(300):\n",
    "    sum += i\n",
    "    if sum > 300:\n",
    "        break\n",
    "print(i, sum)"
   ]
  },
  {
   "cell_type": "code",
   "execution_count": null,
   "metadata": {},
   "outputs": [],
   "source": []
  }
 ],
 "metadata": {
  "interpreter": {
   "hash": "9f9dcbc3dbda920e9125360fe0104a4d858dfb1763bce9adddd9113b29fead37"
  },
  "kernelspec": {
   "display_name": "Python 3.8.8 64-bit ('base': conda)",
   "language": "python",
   "name": "python3"
  },
  "language_info": {
   "codemirror_mode": {
    "name": "ipython",
    "version": 3
   },
   "file_extension": ".py",
   "mimetype": "text/x-python",
   "name": "python",
   "nbconvert_exporter": "python",
   "pygments_lexer": "ipython3",
   "version": "3.8.8"
  },
  "orig_nbformat": 4
 },
 "nbformat": 4,
 "nbformat_minor": 2
}
